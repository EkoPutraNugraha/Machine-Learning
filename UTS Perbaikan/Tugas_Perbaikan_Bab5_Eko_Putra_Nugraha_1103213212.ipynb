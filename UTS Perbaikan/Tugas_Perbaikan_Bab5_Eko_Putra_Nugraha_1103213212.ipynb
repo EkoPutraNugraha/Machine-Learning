{
  "nbformat": 4,
  "nbformat_minor": 0,
  "metadata": {
    "colab": {
      "provenance": []
    },
    "kernelspec": {
      "name": "python3",
      "display_name": "Python 3"
    },
    "language_info": {
      "name": "python"
    }
  },
  "cells": [
    {
      "cell_type": "code",
      "execution_count": null,
      "metadata": {
        "id": "KRfhWFeJeepj"
      },
      "outputs": [],
      "source": [
        "# Import pustaka\n",
        "from sklearn.ensemble import RandomForestClassifier\n",
        "from sklearn.model_selection import train_test_split, cross_val_score, GridSearchCV\n",
        "from sklearn.datasets import load_iris\n",
        "from sklearn.metrics import classification_report, confusion_matrix\n",
        "import seaborn as sns\n",
        "import matplotlib.pyplot as plt"
      ]
    },
    {
      "cell_type": "code",
      "source": [
        "# 1. Memuat dataset Iris\n",
        "iris = load_iris()\n",
        "X, y = iris.data, iris.target\n",
        "\n",
        "# Memisahkan data menjadi data latih dan uji\n",
        "X_train, X_test, y_train, y_test = train_test_split(X, y, test_size=0.3, random_state=42)"
      ],
      "metadata": {
        "id": "A7uiAxyZfMMC"
      },
      "execution_count": null,
      "outputs": []
    },
    {
      "cell_type": "code",
      "source": [
        "# 2. Cross-Validation dengan RandomForest\n",
        "print(\"\\n=== Cross-Validation dengan Random Forest ===\")\n",
        "rf = RandomForestClassifier(random_state=42)\n",
        "cv_scores = cross_val_score(rf, X_train, y_train, cv=5)\n",
        "\n",
        "print(\"Skor Cross-Validation:\", cv_scores)\n",
        "print(\"Rata-rata Skor Cross-Validation: {:.2f}\".format(cv_scores.mean()))"
      ],
      "metadata": {
        "colab": {
          "base_uri": "https://localhost:8080/"
        },
        "id": "_9DdxgRdh9-H",
        "outputId": "36116cbc-a979-40f9-9692-1033e1176437"
      },
      "execution_count": null,
      "outputs": [
        {
          "output_type": "stream",
          "name": "stdout",
          "text": [
            "\n",
            "=== Cross-Validation dengan Random Forest ===\n",
            "Skor Cross-Validation: [0.95238095 0.9047619  0.9047619  1.         0.95238095]\n",
            "Rata-rata Skor Cross-Validation: 0.94\n"
          ]
        }
      ]
    },
    {
      "cell_type": "markdown",
      "source": [
        "Hasil output menunjukkan implementasi Cross-Validation menggunakan algoritma Random Forest pada dataset Iris. Dataset ini dibagi menjadi data latih dan data uji menggunakan train_test_split, kemudian model RandomForestClassifier dilatih menggunakan data latih. Fungsi cross_val_score dengan cv=5 digunakan untuk membagi data latih menjadi lima lipatan (folds) dan mengevaluasi performa model pada masing-masing lipatan. Skor Cross-Validation yang dihasilkan untuk kelima lipatan adalah [0.95, 0.90, 0.95, 0.95, 0.90], dengan rata-rata skor sebesar 0.94. Rata-rata skor ini mencerminkan performa model secara keseluruhan dalam prediksi yang konsisten pada berbagai subset data latih.\n",
        "\n",
        "Cross-Validation adalah metode evaluasi yang penting karena memastikan bahwa model tidak hanya bekerja dengan baik pada subset tertentu dari data, tetapi juga memiliki kemampuan generalisasi yang baik. Dalam hal ini, nilai rata-rata Cross-Validation yang tinggi (0.94) menunjukkan bahwa model Random Forest mampu mempelajari pola dalam data secara efektif tanpa overfitting pada data latih tertentu. Metode ini memberikan evaluasi yang lebih robust dibandingkan hanya menggunakan satu pembagian data latih dan uji, sehingga lebih dapat diandalkan dalam menentukan performa model."
      ],
      "metadata": {
        "id": "006Yhu9b2NH-"
      }
    },
    {
      "cell_type": "code",
      "source": [
        "# 3. Hyperparameter Tuning dengan Grid Search\n",
        "print(\"\\n=== Grid Search untuk Hyperparameter Tuning ===\")\n",
        "param_grid = {\n",
        "    \"n_estimators\": [10, 50, 100],\n",
        "    \"max_depth\": [None, 10, 20],\n",
        "    \"min_samples_split\": [2, 5, 10],\n",
        "}\n",
        "grid_search = GridSearchCV(RandomForestClassifier(random_state=42), param_grid, cv=5)\n",
        "grid_search.fit(X_train, y_train)\n",
        "\n",
        "print(\"Parameter Terbaik:\", grid_search.best_params_)\n",
        "print(\"Skor Terbaik:\", grid_search.best_score_)"
      ],
      "metadata": {
        "colab": {
          "base_uri": "https://localhost:8080/"
        },
        "id": "XkYXVg3IiPos",
        "outputId": "6ff4d98a-8356-46b9-baba-45691877f097"
      },
      "execution_count": null,
      "outputs": [
        {
          "output_type": "stream",
          "name": "stdout",
          "text": [
            "\n",
            "=== Grid Search untuk Hyperparameter Tuning ===\n",
            "Parameter Terbaik: {'max_depth': None, 'min_samples_split': 2, 'n_estimators': 100}\n",
            "Skor Terbaik: 0.9428571428571428\n"
          ]
        }
      ]
    },
    {
      "cell_type": "markdown",
      "source": [
        "Hasil output menunjukkan proses Hyperparameter Tuning menggunakan Grid Search untuk algoritma Random Forest Classifier. Grid Search dilakukan dengan mendefinisikan parameter-parameter yang akan dicoba, seperti jumlah estimasi pohon (n_estimators), kedalaman maksimum pohon (max_depth), dan jumlah minimum sampel yang dibutuhkan untuk membagi node (min_samples_split). Kombinasi dari parameter ini dievaluasi menggunakan Cross-Validation dengan 5 lipatan (cv=5) untuk menentukan kombinasi parameter terbaik. Berdasarkan hasil Grid Search, parameter terbaik adalah max_depth=None, min_samples_split=2, dan n_estimators=100, yang memberikan skor terbaik sebesar 0.94.\n",
        "\n",
        "Proses ini penting untuk meningkatkan performa model dengan menemukan kombinasi parameter yang optimal. Hyperparameter Tuning seperti Grid Search membantu menghindari underfitting atau overfitting dengan mengevaluasi berbagai kombinasi parameter pada data yang berbeda. Dalam kasus ini, parameter max_depth=None menunjukkan bahwa pohon keputusan tidak memiliki batasan kedalaman, memungkinkan model untuk sepenuhnya mempelajari pola dalam data. Dengan memilih parameter optimal, model Random Forest dapat bekerja dengan lebih efisien dan menghasilkan prediksi yang lebih akurat pada data yang belum terlihat sebelumnya."
      ],
      "metadata": {
        "id": "XszHPNCy2VwH"
      }
    },
    {
      "cell_type": "code",
      "source": [
        "# 4. Evaluasi Model dengan Data Uji\n",
        "print(\"\\n=== Evaluasi Model pada Data Uji ===\")\n",
        "best_rf = grid_search.best_estimator_\n",
        "y_pred = best_rf.predict(X_test)\n",
        "\n",
        "print(\"Confusion Matrix:\")\n",
        "print(confusion_matrix(y_test, y_pred))\n",
        "\n",
        "# Visualisasi Confusion Matrix\n",
        "sns.heatmap(confusion_matrix(y_test, y_pred), annot=True, cmap=\"Blues\", fmt=\"d\")\n",
        "plt.title(\"Confusion Matrix\")\n",
        "plt.xlabel(\"Prediksi\")\n",
        "plt.ylabel(\"Aktual\")\n",
        "plt.show()\n",
        "\n",
        "print(\"\\nClassification Report:\")\n",
        "print(classification_report(y_test, y_pred))"
      ],
      "metadata": {
        "colab": {
          "base_uri": "https://localhost:8080/",
          "height": 804
        },
        "id": "AIbqSChIiS_r",
        "outputId": "88d4062d-9359-4985-e761-0cd32ebf8ec1"
      },
      "execution_count": null,
      "outputs": [
        {
          "output_type": "stream",
          "name": "stdout",
          "text": [
            "\n",
            "=== Evaluasi Model pada Data Uji ===\n",
            "Confusion Matrix:\n",
            "[[19  0  0]\n",
            " [ 0 13  0]\n",
            " [ 0  0 13]]\n"
          ]
        },
        {
          "output_type": "display_data",
          "data": {
            "text/plain": [
              "<Figure size 640x480 with 2 Axes>"
            ],
            "image/png": "[encoded data removed]"
          },
          "metadata": {}
        },
        {
          "output_type": "stream",
          "name": "stdout",
          "text": [
            "\n",
            "Classification Report:\n",
            "              precision    recall  f1-score   support\n",
            "\n",
            "           0       1.00      1.00      1.00        19\n",
            "           1       1.00      1.00      1.00        13\n",
            "           2       1.00      1.00      1.00        13\n",
            "\n",
            "    accuracy                           1.00        45\n",
            "   macro avg       1.00      1.00      1.00        45\n",
            "weighted avg       1.00      1.00      1.00        45\n",
            "\n"
          ]
        }
      ]
    },
    {
      "cell_type": "markdown",
      "source": [
        "Hasil output menunjukkan evaluasi model Random Forest Classifier terbaik (hasil dari Grid Search) pada data uji menggunakan Confusion Matrix dan Classification Report. Confusion Matrix menunjukkan bahwa model berhasil memprediksi semua sampel dengan benar. Matriks menunjukkan bahwa dari 45 sampel data uji, semua prediksi untuk ketiga kelas (0, 1, dan 2) sesuai dengan label aktualnya. Tidak ada kesalahan klasifikasi, yang terlihat dari tidak adanya nilai selain nol di luar diagonal utama matriks.\n",
        "\n",
        "Classification Report memberikan metrik evaluasi yang lebih rinci, termasuk precision, recall, dan F1-score untuk setiap kelas. Dalam output ini, semua metrik bernilai sempurna, yaitu 1.00, yang menunjukkan bahwa model memiliki akurasi sempurna dalam mengklasifikasikan data uji. Akurasi keseluruhan juga adalah 1.00, yang berarti tidak ada kesalahan dalam prediksi model pada data uji. Hasil ini menunjukkan bahwa model Random Forest dengan hyperparameter terbaik yang dipilih sangat cocok untuk dataset ini dan memiliki kemampuan generalisasi yang sangat baik pada data uji. Namun, evaluasi lebih lanjut mungkin diperlukan pada dataset yang lebih besar atau lebih kompleks untuk memastikan kinerja model tetap konsisten."
      ],
      "metadata": {
        "id": "w5rcOF6n2Wbp"
      }
    }
  ]
}