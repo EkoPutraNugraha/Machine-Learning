{
  "nbformat": 4,
  "nbformat_minor": 0,
  "metadata": {
    "colab": {
      "provenance": []
    },
    "kernelspec": {
      "name": "python3",
      "display_name": "Python 3"
    },
    "language_info": {
      "name": "python"
    }
  },
  "cells": [
    {
      "cell_type": "code",
      "execution_count": null,
      "metadata": {
        "id": "uVWM7mPtZ8kP"
      },
      "outputs": [],
      "source": [
        "# Import pustaka\n",
        "import pandas as pd\n",
        "import numpy as np\n",
        "from sklearn.preprocessing import MinMaxScaler, StandardScaler\n"
      ]
    },
    {
      "cell_type": "code",
      "source": [
        "# 1. Membuat DataFrame\n",
        "print(\"=== Membuat Data ===\")\n",
        "data = {\n",
        "    \"City\": [\"New York\", \"Paris\", \"Berlin\", \"London\", \"Paris\", \"New York\"],\n",
        "    \"Temperature\": [21, 23, 19, 25, 22, 20],\n",
        "    \"Rainfall\": [10, 20, 15, 10, 30, 25],\n",
        "    \"Humidity\": [65, 70, 60, 80, 75, 68],\n",
        "}\n",
        "df = pd.DataFrame(data)\n",
        "print(df)"
      ],
      "metadata": {
        "colab": {
          "base_uri": "https://localhost:8080/"
        },
        "id": "NtF33gJNaTOE",
        "outputId": "4854b2a6-96a9-49f2-91f8-ab7ad32e772a"
      },
      "execution_count": null,
      "outputs": [
        {
          "output_type": "stream",
          "name": "stdout",
          "text": [
            "=== Membuat Data ===\n",
            "       City  Temperature  Rainfall  Humidity\n",
            "0  New York           21        10        65\n",
            "1     Paris           23        20        70\n",
            "2    Berlin           19        15        60\n",
            "3    London           25        10        80\n",
            "4     Paris           22        30        75\n",
            "5  New York           20        25        68\n"
          ]
        }
      ]
    },
    {
      "cell_type": "markdown",
      "source": [
        "Hasil output menunjukkan pembuatan sebuah DataFrame menggunakan pustaka pandas, yang merupakan struktur data tabular dengan kolom bernama dan baris terindeks. Data yang dimasukkan berisi informasi terkait kota, suhu (Temperature), curah hujan (Rainfall), dan kelembaban (Humidity). Setiap kolom mewakili atribut tertentu, dan setiap baris mewakili data untuk sebuah kota. Misalnya, baris pertama menunjukkan data untuk kota New York dengan suhu 21, curah hujan 10, dan kelembaban 65.\n",
        "\n",
        "DataFrame ini memungkinkan manipulasi data yang efisien, seperti pengambilan subset data, perhitungan statistik, atau visualisasi data. Penggunaan struktur seperti ini penting dalam pembelajaran mesin, terutama untuk proses eksplorasi data (EDA) atau persiapan data sebelum pelatihan model. Output ini memperlihatkan bagaimana data dapat diorganisasi secara terstruktur menggunakan pandas, yang merupakan langkah awal dalam mengolah data multivariat untuk analisis lebih lanjut."
      ],
      "metadata": {
        "id": "vAYUf5uJ1DzW"
      }
    },
    {
      "cell_type": "code",
      "source": [
        "# 2. One-Hot Encoding\n",
        "print(\"\\n=== One-Hot Encoding ===\")\n",
        "df_encoded = pd.get_dummies(df, columns=[\"City\"])\n",
        "print(df_encoded)"
      ],
      "metadata": {
        "colab": {
          "base_uri": "https://localhost:8080/"
        },
        "id": "bIlhH_HJaYD_",
        "outputId": "aa06903b-34e1-43dd-d2e6-9efd8a4dbe0e"
      },
      "execution_count": null,
      "outputs": [
        {
          "output_type": "stream",
          "name": "stdout",
          "text": [
            "\n",
            "=== One-Hot Encoding ===\n",
            "   Temperature  Rainfall  Humidity  City_Berlin  City_London  City_New York  \\\n",
            "0           21        10        65        False        False           True   \n",
            "1           23        20        70        False        False          False   \n",
            "2           19        15        60         True        False          False   \n",
            "3           25        10        80        False         True          False   \n",
            "4           22        30        75        False        False          False   \n",
            "5           20        25        68        False        False           True   \n",
            "\n",
            "   City_Paris  \n",
            "0       False  \n",
            "1        True  \n",
            "2       False  \n",
            "3       False  \n",
            "4        True  \n",
            "5       False  \n"
          ]
        }
      ]
    },
    {
      "cell_type": "markdown",
      "source": [
        "Hasil output menunjukkan penggunaan teknik One-Hot Encoding untuk mengubah kolom kategorikal City dalam DataFrame menjadi representasi numerik yang dapat diproses oleh algoritma pembelajaran mesin. Teknik ini dilakukan dengan menggunakan fungsi pd.get_dummies() dari pustaka pandas. Kolom City yang berisi nama kota seperti New York, Paris, Berlin, dan London diubah menjadi beberapa kolom biner (boolean), di mana setiap kolom mewakili satu kategori. Jika sebuah kota ada pada baris tertentu, kolom terkait akan bernilai True (atau 1), sedangkan kolom lainnya bernilai False (atau 0). Misalnya, untuk baris pertama, kota New York direpresentasikan dengan City_New York=True, sementara kolom untuk kota lain adalah False.\n",
        "\n",
        "Teknik ini penting karena algoritma pembelajaran mesin bekerja lebih baik dengan data numerik dibandingkan data kategorikal. Dengan representasi ini, algoritma dapat memahami hubungan antara kategori tanpa menganggap bahwa ada urutan atau hubungan matematis di antara nilai kategorikal asli. Proses One-Hot Encoding menjaga informasi kategorikal dan mempersiapkan data untuk digunakan dalam pelatihan model. Hasil ini memperlihatkan langkah awal dalam preprocessing data kategorikal untuk memastikan kompatibilitas dengan model pembelajaran mesin."
      ],
      "metadata": {
        "id": "QOy7ERsC1Eu5"
      }
    },
    {
      "cell_type": "code",
      "source": [
        "# 3. Transformasi Data (Scaling)\n",
        "print(\"\\n=== Scaling Data ===\")\n",
        "scaler = MinMaxScaler()\n",
        "df_scaled = scaler.fit_transform(df_encoded[[\"Temperature\", \"Rainfall\", \"Humidity\"]])\n",
        "df_scaled = pd.DataFrame(df_scaled, columns=[\"Temperature_Scaled\", \"Rainfall_Scaled\", \"Humidity_Scaled\"])\n",
        "print(df_scaled)"
      ],
      "metadata": {
        "colab": {
          "base_uri": "https://localhost:8080/"
        },
        "id": "_Zvg1-k5aZBt",
        "outputId": "017b70d4-44a7-4c41-da2f-ce130ba0f8b8"
      },
      "execution_count": null,
      "outputs": [
        {
          "output_type": "stream",
          "name": "stdout",
          "text": [
            "\n",
            "=== Scaling Data ===\n",
            "   Temperature_Scaled  Rainfall_Scaled  Humidity_Scaled\n",
            "0            0.333333             0.00             0.25\n",
            "1            0.666667             0.50             0.50\n",
            "2            0.000000             0.25             0.00\n",
            "3            1.000000             0.00             1.00\n",
            "4            0.500000             1.00             0.75\n",
            "5            0.166667             0.75             0.40\n"
          ]
        }
      ]
    },
    {
      "cell_type": "markdown",
      "source": [
        "Hasil output menunjukkan proses scaling data menggunakan teknik Min-Max Scaling yang dilakukan dengan pustaka sklearn. Teknik ini digunakan untuk mengubah nilai fitur numerik menjadi rentang antara 0 dan 1. Kolom-kolom Temperature, Rainfall, dan Humidity diambil sebagai input, dan nilai-nilai dalam kolom tersebut ditransformasi sesuai dengan rumus Min-Max Scaling, yaitu:\n",
        "\n",
        "![Screenshot 2025-01-02 232459.png](data:image/png;base64,iVBORw0KGgoAAAANSUhEUgAAAVgAAABbCAYAAAA2j51aAAAAAXNSR0IArs4c6QAAAARnQU1BAACxjwv8YQUAAAAJcEhZcwAADsMAAA7DAcdvqGQAABI1SURBVHhe7d1/bNP3ncfx5y6TYRyOguwr4sulFzOEoT274y4WVd2sdcauvkitd7s5pY07DQ/E2a1IQOCq16QZTSpUd2rjao0PtTM7ZqouqXp10DijcuY2zgjuGwlwNMp31zXRuHyrTo6GEsRdrIt2f9gJjvmx0ubLj/B+SJXaz+f7/dr5qnrlk8/n831/v2Sz2f6AEEKIOfcnlQ1CCCHmhgSsEEIYRAJWCCEMIgErhBAGkYAVQgiDSMAKIYRBJGCFEMIgErBCCGEQCVghhDCIBKwQQhhEAlYIIQwiASuEEAaRgBVCCINIwAohhEEkYIUQwiASsEIIYRAJWCGEMIgErBBCGEQCVgghDCIBK4QQBpGAFUIIg0jACiGEQSRghRDCIBKwQghhEAlYIYQwiASsEEIYRAJWCCEMIgErhBAGkYAVQgiDSMAKIYRBJGCFEMIgErBCCGEQCVghhDCIBKwQQhhEAlYIIQzyJZvN9ofKRiGu27eipHZ6UExlbVMFht52E3wdIvtV/KvK+3SOvOgjcrCszXA+ogMRPMvKvyQUhpK4gzHYkUR93D6rTz/cge+59Kw2IT4rCVgxtzYlyG5xYJoapt/fTPTcdIeX6M+7cOr9xF+Nkvpw9mk3VpDEL0I4FsHwuz6aX9ZneryvpOly6PS/8TLRA9qss4S4XjJFIObWWynUMaDKhvNxpdSoEIi34fxtjODmmx2uAAlSp8YAsDkDzHzLp3ppc3xMbHNQwlXMCQlYMcdS7B8sjgjtD4RwoRCIJwhWZ+gKJbk0Vry5Um+rxe+yyk1oXTFcExurybwUJjkz6hbii6lasmTJDyobhfgi9P+6m4e+cy/WmiXc/ZcePEtVOjbsJlt54M00qnH3w09wr8XMEuVePI1LUTufYPfRygOF+PxkBCvm3rko2TMFwILDkSexvfvWClcAdKK/HKIAWL7mJL+3jW4JVzHHJGCFIVLaaPFfqhZiulX/5D54ltEpgAUsXDD3kxf2Bg+u2spWcSeRXQRizinfiRIPO1mABYsZtJ/5CPzwOgNsjRuvzVzZemWFMXKHS3Oqn1Wtn2gshHMBWO4yw6/78bVEr+8a1+LoIpXwMvm+i+aXKjvFnUICVsythnb6djnRXm5joCFO7yMKnEsT/nYHauWx1+B9PkHQsbiy+SpGSG+IkKhsvio37f1dOM9EaTvoJv4jLwo66Wd8dJyoPPbzUnA1LGf06HUGv5hXJGDF3KkN0PtmAPYHCf9Uh9oIyX4/9qoxsi96aTtQecLNUNzVECBJMJRERyGyP4V/FYwd68bbmqo8AWpdeOygHVbRseNussFwmuyHpT7HYi4MHUGdmQpRcK23MX44y/RmL3uDF2u+eI5S78FZc+H6R93itiMBK+ZGbYDeN4NUH+4g8MNLS1rBN7OEvmaicCqOe/NnH2Ma49KWsY6W6KWFt+mHIy4OEX8oWDESDtDzjhdTlY0VE6fJLwJdA/v61YwezmFdCdpvrbi/biKzvZnuE27aEyGUKSsui0r42x3wfIKddSas95g4m4PqgoZudeOuytC2ofu6Rvbi9iKLXOILsz8aofefQqz+KD4rXAESgxoFwLTqQUI3c8FnjY9IPEFo5cfEy8MV4C0V7SKwyM6DW6YfOyjZ5sV6JoJWMGGpGSO+IUykc4DhCTP31Wq0tbTR8Vyas5PLWb0O2NTCaj3GwATw5QWAl5Z7/peBf8lTMFnhWBuB1g4igzqmuxRmP5gr5hsJWPG5eXenyB5XSb7gx3WXCfO6CH0vOGb6/a+mUTc5MAEschB8TyX7QYJQ+UWM1hQllVVR97Xjr7dgqnEReaedmW/5eA/p40EciwBMODalULMZEk+X+tMxYnsbsS8D7WhHMZhr61EsE5w+HC/+id9UzwpzHv0EkN1LbI+C9x4Leq4flRzx7m4y62xYxnIM/LQ4KRBYpcCYTmb6e4h5aX5NEexIkP2OA1NVWdtMUREfPel23JayvotDJB8KEitrEuIyTT2kd9nIPeMjcgLYkiC70UTf/QFigC+Wpt2WI/x0PyxWUdf2ktlaTdrfxZGlE6iDOq37VZonE7iDcaD4/6JtMEzofTAPqjNztWJ+mV8j2B8Gcd/vInyotHRwXiV6/3TFphRtm5NoFwvo/x4j/G0XLglX8Rko62xYxobJlHYY+B11mM6dpR8ALx67Bf1X/Zi2trJxLQQ992H+TY7kI620fms5EMC+DIaH4sULPPkITssw6h6FyNYWVpd9lphf5lfAlqh7smhTQM0K3I9Ot7ppf9WH6d8i+HYmy1Z8hbg2/0qFwrkcxaKFDpyKGf2jQzM7AApTBSZrNhJarLL3bShMTlIw1dHtKZDeo5amEHSGj5VOmChQuAjKSy2YPohyhX0LYp6YX1MEZWavXmu093fx4LkEwe23TsERcXtQ6t0s/zQ780tZqXdV/Flvx90A2aPTLZXbtCr7iw9SuMkWt3qJeWveBiyP9pB+wY1lahj1ZDUrZvY9CiHEjTEvpwgAOLCf3CfFuqSupeotVSpPCHFnmL8jWMAfyxB5wPy5HtX8vALdSR5baWLB7wfxhaKV3Vf3aDuJFieLF8FIopnI+5UHAIRIfBDAPvuNJ9c0+eskjZtLiytCiBtq3gase2uCjiYFaixYbuijmna63kvi1qM0PlNcZ/6slGf7SDVdIPFQEIlEIW5/8zJglad6SbRA37YwbL/Rj2q2kjzeTGGvm+Ceyr5rC8QztFoz+PzdN3w6Q1VvxPhezCWXy1XZJG4x8y9gS9Wccp3NxQLKM4tdGv3+QNlL+C5nb/BiW3CF0ndr3HhtMHzwUvEOKgp4zHiql8xWKxlXM91lzcWVZSeLz+c4UnqlSnm7aRT8r3VhOxnG99zVwq54rOU6pgiYGCZdvnothLhh5lfANrTTt+tB9L1B2kqPJIKLrvd68daCfiiMr/1K4eWm/Z0OnJ+qaFN2nF9J4wsloNZP1yvfxzmRIzdRh9uRJ/HNMMk1QXpe9mH9VY68zYnTYubs/kbCPwHvq2m6VuYIPxYpzfkq+Hf18P11Bc6eGKZgc2Id9BF8vVg3tWdLHfljIyx01GOvhdOvNRJ+u/L7TXMTfN6L7XoC9neDdLwhOy2FuBnmScAquJ4KsXOjFw7Nfg0zgGt3it71CnxyhLbHIpe/vmRbEtWjE34sQl0sTcj8rzQGB+l6rwf3pzECoSTuH2WI3HOWeOMhnOl2bCfb8D2XhSd7yWxbzuAzPiInFLreS82af3U930dPU4G+DQFi58D9SoqQ7iPwbivJd5op7PMT3KPDC32o35D5VyHmk9t+m1ZrIoOqpujd6sVmBtvfJen93qX+yL5sMVwBlnnoOZ4l29+F59IhxSdrlnnoPZ4ltFQl3hmDbSG8tTqDPylu7+p/phFXY5jENj9ui472fjGmlZVWzBOj5E4A+LEpBUaGphe3/Gx82Ibpoon7XkiSGkjx/YtJul4D346/xf5/GuqeUvGPZVb43cfyVI8Q88g8GcF+EXbc662wzI3vATf19Qr5910M/HmG1pVniX4zXHrmvCgQz9Bqy9HhbSMNhBJZAiRxv5LBXt9KfKuVjKuD/jUa2oft9Kk+OOCi+cWyiwDt/Sq+QhJXSwzw0pMuzr+G9o3Dh9oNX+QSQsy9234E+0W5uqP07G7F89MokVCI7LkCFz6F/P8UYGKsbDrBTnB3F381BUzki8+l14ZwfdVE/lyK1u3P8g9rV2D+ZIRDW57lWb8CjJCfKP80UB6J0PWsB6ZgYnys2NjQiM0yweiQhcj2EM7Zp9x4OxJkj6uoatk/x1NEmyhVgqro+0WC1sprzBs+ogPZ2T+vqpJNlH7iHcnL+lK7vZUXEXcoGcE+2UNqQzXayVFQnNjJEN0cI1uq0G/VsmgXLdjtVvSDHbRpfvp2ucgfHabaYQVsWM9r5CcyREa89D9S4PR50HYGi3OuO5J0eArkBkfBYqNuUY5EZ5Tcw70kWqrJnRynzrYQLHUwopMfiRF+6UoLcTeeqztVfKfWeXX2SL62lWSyGfN/xul+/U4pnBMk8YsQjkUw/O7seX7vK2m6HDr9b7xM9IDs2BCXSMBCcZqgSaEw671KXGNrlR33+mqGD6voFS+3qywMAtPvbTKhV2zzotaFp26cI0e1KxcEudmu+E6t0gsDhzpofvGy5cJ5zRdL0/6AZdYbaKf3XCc3h0neEb9oxPWQgBXXJFXJyqzrIlX2Btr4ql4SG6vJdAaIHq08WAioWrJkyQ8qG4WYdhInf//Q3Zj/zMrav/4b7rv4zwS33oHhCjCqcffDT3CvxcwS5V48jUtRO59gt4SruIo7fpFL/BFSlayMTvSXQxQAy9ec5Pe2FZ8WnEP2Bg+um/lySDGnJGDFH6GiDl/aClGY1XcHOniW0SmABSxcMMe/ahxdRF+NsvO7lR3idiVzsOKabl5Vss+h1oXHYWFBZfsVTVxWW+KPqvUTjYVwLgDLXeZZi11zY/aCqbj9ScCKq7reqmRKvQc7WnHHRUWBHKXeg7PmwuWFdFBwrbeDVrmDo3TOV3TSR7XZ176aTVH61tdVtl7FBXL7gnQfrGy/mtLuiTNR2g66iZctdnWUXoY4mx13k5X8wSzaZbtR7LibbDBcXiio8jUz176f4vYgASuu7Hqrkj3ZQ5/XBH+xggtDeRZX6WjYaVw5SuaMFRsa+hI3blOGtg3dqKWHLqJb6xkfHGGhw0ldzTiZ7c10n1IIvBKl0TRM3urCWZUnPzEOtasZf7eR8FsVn204hUA8QWDmtUMKkf0p/Ktg7Fg33tbKB5xdtCd2olDNfeaPOT1VTUHTsTa4MZ3IcmHlYvJnwL5+NaNvNBJ+2017IoQyZcVlUYvF4Z/soc9bzYKvKoydnH0/498Mk6z4RHFrkjlYcbmZqmRlizgH9hdHmFV23Fsur0Pa6rWSe16jsMCCZSxOcyhCx4FhJmruY/mZNgKtHUQ+OMtk7WoeoPiwQvQFH4WBNsKdEYKnxjFXXWDsFPBohMaqfoKtHUS0cSx3jZM+XMBaA1ys/GSjFcM1WJ0pW+DTiR6ZXuzyEaw8pamF1ZMDDJwHkwWO7QzQ1hlB/cSE7V74sT9MpLOb3KdmVqz1wKYWVusxBiaALxcnOIr38zQTVZX308pnHaOLm08CVpRRcD3VRd8uHxwqL/kIoDKgFf9bcfpxl/UApF+PkXjYjoJGprNUCKdewTJxmkypoI137QrMYzrHAO+2axS7ORXn5deKo8JQ3XIKI0Mkf9aG9/5rlXI0wBofkXiC0MqPibdEZ1dhe0tFuwgssvPgllIxoWlD+4m9nsFdZ2Hs1EDpAYQA9mUwPNhTuk6xMJD+0RHI7iW2R8F7jwU9148KpHd30X3F+5lnZPaniVuYBKyAOahKpg2qONeuwPy7YoAC+OqWwyda6c9ZXzFAftXPaL2Lb9Ra4L9Pl0ozunAuN6N/dAjW2FHOaWilUHLUmRgdKYatUu/CXrq2oZqipLIq6r52/PUWTDUuIu+045juf7yH9PEgjkUAJhybUqjZDImnS/3nVNQPSwGqpYtt65wsN4+hl+aQlR0u7JMa6h47rj8dRW14BGeNRnbPOK56Be1DrfgLaeZ+KgTsNgq/GSS5xiVbuW4TMgcr5kixFq5rpAPv9jTgp/eDCNajPppf1KGph/QuG7lnovB0C3eZXNz9+xiNoSQ0REm9Ws/o61EKX/fya93GxqZJUp06D+5azdlOL20H3UT3tXD2u2GuvMR2i3mql8zT1aTuDxADeL4P9Rt5Yo3F+dPW/SrNkwn8p1x017TzH7X9hBal8B2pI1q3l0D76Oz7WdtO33uN5F8LMLK+GzqDl8+Di1uOjGDFHCmN2M6URmwOJ8trdEYOTU8zFODiJIu/F2Lxyb38489VCjYv0d299D1tZfI8WL8ewDSyHxWYGNFRWqyMnzNha+qiZ38rpg+6b49wnZ4O0YdnRvPB6amO6QOmCkxgp3tdnsyLOoXJSQqmOro9BdJ71MvvJxMUCgUWPtCDc+THEq63CRnBijlSuYdTwVVvRh0s21S0xo2b7KWtSdcodmNv8FA9cgT13NW3cd3SKn/WNS5cF9Syn+EK92vWNq3K/uL9ci8dJXutrWriliIBK4QQBpEpAiGEMIgErBBCGEQCVgghDCIBK4QQBpGAFUIIg0jACiGEQSRghRDCIBKwQghhEAlYIYQwiASsEEIYRAJWCCEM8v8nPE3a3c4DiAAAAABJRU5ErkJggg==)\n",
        "\n",
        "  adalah nilai minimum dan maksimum dari masing-masing kolom. Contohnya, suhu dengan nilai 21 diubah menjadi 0.333, yang merepresentasikan posisinya dalam rentang nilai suhu antara minimum (19) dan maksimum (25).\n",
        "\n",
        "Proses ini penting karena banyak algoritma pembelajaran mesin, seperti KNN dan Gradient Descent, sensitif terhadap skala fitur. Fitur dengan skala besar dapat mendominasi fitur lain dengan skala kecil, yang dapat memengaruhi kinerja model. Dengan melakukan scaling, semua fitur berada dalam rentang yang sama, sehingga algoritma dapat memproses setiap fitur secara setara. Output menunjukkan kolom baru dengan nilai scaled, yaitu Temperature_Scaled, Rainfall_Scaled, dan Humidity_Scaled, yang siap digunakan dalam proses pelatihan model pembelajaran mesin. Proses ini adalah bagian penting dari preprocessing untuk memastikan data numerik dalam skala yang konsisten."
      ],
      "metadata": {
        "id": "gA1WO7nt1TU5"
      }
    },
    {
      "cell_type": "code",
      "source": [
        "# 4. Fitur Baru (Interaksi dan Polinomial)\n",
        "print(\"\\n=== Menambahkan Fitur Baru ===\")\n",
        "df_encoded[\"Temp_Squared\"] = df_encoded[\"Temperature\"] ** 2\n",
        "df_encoded[\"Temp_Rainfall\"] = df_encoded[\"Temperature\"] * df_encoded[\"Rainfall\"]\n",
        "print(df_encoded)"
      ],
      "metadata": {
        "colab": {
          "base_uri": "https://localhost:8080/"
        },
        "id": "c0zgNu_wadoN",
        "outputId": "0c19e8f6-5ea3-4028-f419-55d769d85d4f"
      },
      "execution_count": null,
      "outputs": [
        {
          "output_type": "stream",
          "name": "stdout",
          "text": [
            "\n",
            "=== Menambahkan Fitur Baru ===\n",
            "   Temperature  Rainfall  Humidity  City_Berlin  City_London  City_New York  \\\n",
            "0           21        10        65        False        False           True   \n",
            "1           23        20        70        False        False          False   \n",
            "2           19        15        60         True        False          False   \n",
            "3           25        10        80        False         True          False   \n",
            "4           22        30        75        False        False          False   \n",
            "5           20        25        68        False        False           True   \n",
            "\n",
            "   City_Paris  Temp_Squared  Temp_Rainfall  \n",
            "0       False           441            210  \n",
            "1        True           529            460  \n",
            "2       False           361            285  \n",
            "3       False           625            250  \n",
            "4        True           484            660  \n",
            "5       False           400            500  \n"
          ]
        }
      ]
    },
    {
      "cell_type": "markdown",
      "source": [
        "Hasil output menunjukkan proses pembuatan fitur baru dari data yang sudah ada melalui interaksi fitur dan transformasi polinomial. Fitur baru pertama, Temp_Squared, dibuat dengan mengkuadratkan nilai kolom Temperature. Transformasi ini menambahkan dimensi non-linier ke data yang dapat membantu model pembelajaran mesin menangkap hubungan yang lebih kompleks antara suhu dan target atau fitur lainnya. Sebagai contoh, nilai suhu 21 dikalikan dengan dirinya sendiri menghasilkan nilai 441 pada kolom Temp_Squared.\n",
        "\n",
        "Fitur baru kedua, Temp_Rainfall, dibuat dengan mengalikan kolom Temperature dengan kolom Rainfall. Interaksi antara suhu dan curah hujan ini dapat memberikan informasi tambahan kepada model tentang bagaimana kedua fitur ini saling berhubungan dan memengaruhi target. Penambahan fitur interaksi seperti ini berguna dalam model yang lebih kompleks, seperti regresi linier polinomial atau model berbasis pohon, untuk meningkatkan performa prediksi. Dengan menambahkan fitur baru, dataset menjadi lebih kaya dan memberikan model kemampuan untuk mempelajari pola yang lebih kompleks dan relevan. Proses ini adalah langkah penting dalam feature engineering, yang sering kali meningkatkan akurasi model secara signifikan."
      ],
      "metadata": {
        "id": "cgKrK5321oON"
      }
    },
    {
      "cell_type": "code",
      "source": [
        "# 5. Visualisasi Data\n",
        "import matplotlib.pyplot as plt\n",
        "\n",
        "plt.scatter(df_encoded[\"Temperature\"], df_encoded[\"Rainfall\"], c=\"blue\", label=\"Data\")\n",
        "plt.title(\"Hubungan antara Temperature dan Rainfall\")\n",
        "plt.xlabel(\"Temperature\")\n",
        "plt.ylabel(\"Rainfall\")\n",
        "plt.legend()\n",
        "plt.show()"
      ],
      "metadata": {
        "colab": {
          "base_uri": "https://localhost:8080/",
          "height": 472
        },
        "id": "7XfX82hIagOy",
        "outputId": "8a7ccfaf-b272-4270-d7c5-138f7cd39351"
      },
      "execution_count": null,
      "outputs": [
        {
          "output_type": "display_data",
          "data": {
            "text/plain": [
              "<Figure size 640x480 with 1 Axes>"
            ],
            "image/png": "[encoded data removed]"
          },
          "metadata": {}
        }
      ]
    },
    {
      "cell_type": "markdown",
      "source": [
        "Hasil output menunjukkan visualisasi hubungan antara Temperature dan Rainfall menggunakan scatter plot dari pustaka matplotlib. Setiap titik pada grafik merepresentasikan pasangan nilai Temperature dan Rainfall untuk satu sampel data. Misalnya, untuk suhu 19°C, curah hujan tercatat sebesar 10 mm, sedangkan untuk suhu 25°C, curah hujan mencapai 30 mm. Grafik ini membantu dalam menganalisis pola hubungan antara kedua variabel tersebut, yang dapat digunakan untuk mengidentifikasi korelasi atau hubungan linier di antara mereka.\n",
        "\n",
        "Visualisasi ini memberikan wawasan penting dalam analisis data eksploratif (EDA). Dengan scatter plot, kita dapat melihat penyebaran data dan menentukan apakah ada hubungan yang kuat antara Temperature dan Rainfall. Dalam kasus ini, titik-titik tampak tersebar tanpa pola linier yang jelas, menunjukkan bahwa hubungan antara kedua variabel mungkin tidak terlalu kuat atau terpengaruh oleh faktor lain. Visualisasi seperti ini adalah langkah awal yang penting untuk memahami struktur data sebelum melanjutkan ke tahap analisis lebih lanjut atau pelatihan model pembelajaran mesin."
      ],
      "metadata": {
        "id": "wdrgssme1yWJ"
      }
    }
  ]
}